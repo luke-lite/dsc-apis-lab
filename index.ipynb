{
 "cells": [
  {
   "cell_type": "markdown",
   "metadata": {},
   "source": [
    "# APIs - Cumulative Lab\n",
    "\n",
    "\n",
    "## Introduction \n",
    "\n",
    "We've seen how the Yelp API works and how to create basic visualizations using Folium. It's time to put those skills to work in order to create a working map! Taking things a step further, you'll also independently explore how to perform pagination in order to retrieve a full results set from the Yelp API.\n",
    "\n",
    "## Objectives\n",
    "\n",
    "You will be able to: \n",
    "\n",
    "* Practice using functions to organize your code\n",
    "* Use pagination to retrieve all results from an API query\n",
    "* Practice parsing data returned from an API query\n",
    "* Practice interpreting visualizations of a dataset\n",
    "* Create maps using Folium"
   ]
  },
  {
   "cell_type": "markdown",
   "metadata": {},
   "source": [
    "## Your Task: Query Yelp for All Businesses in a Category and Analyze the Results\n",
    "\n",
    "![restaurant counter with pizza](images/restaurant_counter.jpg)\n",
    "\n",
    "Photo by <a href=\"https://unsplash.com/@jordanmadrid?utm_source=unsplash&utm_medium=referral&utm_content=creditCopyText\">Jordan Madrid</a> on <a href=\"/s/photos/pizza-restaurant?utm_source=unsplash&utm_medium=referral&utm_content=creditCopyText\">Unsplash</a>"
   ]
  },
  {
   "cell_type": "markdown",
   "metadata": {},
   "source": [
    "### Overview\n",
    "\n",
    "You've now worked with some API calls, but we have yet to see how to retrieve a more complete dataset in a programmatic manner. In this lab, you will write a query of businesses on Yelp, then use *pagination* to retrieve all possible results for that query. Then you will create a summary of your findings, including a Folium map of the geographic locations of those businesses.\n",
    "\n",
    "### Technical Details\n",
    "\n",
    "Returning to the Yelp API, the [documentation](https://www.yelp.com/developers/documentation/v3/business_search) also provides us details regarding the **API limits**. These often include details about the number of requests a user is allowed to make within a specified time limit and the maximum number of results to be returned. In this case, we are told that any request has a **maximum of 50 results per request** and defaults to 20. Furthermore, any search will be limited to a **total of 1000 results**. To retrieve all 1000 of these results, we would have to page through the results piece by piece, retrieving 50 at a time. Processes such as these are often referred to as pagination.\n",
    "\n",
    "Also, be mindful of the **API** ***rate*** **limits**. You can only make **5000 requests per day** and are also can make requests too fast. Start prototyping small before running a loop that could be faulty. You can also use `time.sleep(n)` to add delays. For more details see https://www.yelp.com/developers/documentation/v3/rate_limiting.\n",
    "\n",
    "In this lab, you will define a search and then paginate over the results to retrieve all of the results. You'll then parse these responses as a list of dictionaries (for further exploration) and create a map using Folium to visualize the results geographically.\n",
    "\n",
    "### Requirements\n",
    "\n",
    "#### 1. Make the Initial Request\n",
    "\n",
    "Start by filling in your API key to make the initial request to the business search API. Investigate the structure of the response you get back and start figuring out how you will extract the relevant information.\n",
    "\n",
    "#### 2. Add Pagination\n",
    "\n",
    "Using loops and functions, collect the maximum number of results for your query from the API.\n",
    "\n",
    "#### 3. Perform Exploratory Analysis\n",
    "\n",
    "Interpret visualizations related to the price range, average rating, and number of reviews for all query results.\n",
    "\n",
    "#### 4. Create a Folium Map\n",
    "\n",
    "Using latitude and longitude data, plot the query results on an interactive map."
   ]
  },
  {
   "cell_type": "markdown",
   "metadata": {},
   "source": [
    "## 1. Make the Initial Request\n",
    "\n",
    "### Querying\n",
    "\n",
    "Start by making an initial request to the Yelp API. Your search must include at least 2 parameters: **term** and **location**. For example, you might search for pizza restaurants in NYC. The term and location is up to you but make the request below.\n",
    "\n",
    "Use the `requests` library ([documentation here](https://requests.readthedocs.io/en/master/user/quickstart/#make-a-request)).\n",
    "\n",
    "You'll also need an API key from Yelp. If you haven't done this already, go to the Yelp [Manage App page](https://www.yelp.com/developers/v3/manage_app) and create a new app (after making an account if you haven't already)."
   ]
  },
  {
   "cell_type": "code",
   "execution_count": 1,
   "metadata": {},
   "outputs": [],
   "source": [
    "import requests\n",
    "import json\n",
    "\n",
    "def get_keys(path):\n",
    "    with open(path) as f:\n",
    "        return json.load(f)\n",
    "\n",
    "keys = get_keys(\"\")\n",
    "\n",
    "api_key = keys['api_key']"
   ]
  },
  {
   "cell_type": "code",
   "execution_count": 2,
   "metadata": {},
   "outputs": [
    {
     "data": {
      "text/plain": [
       "<Response [200]>"
      ]
     },
     "execution_count": 2,
     "metadata": {},
     "output_type": "execute_result"
    }
   ],
   "source": [
    "# Replace None with appropriate code\n",
    "\n",
    "# These can be whatever you want! But the solution uses \"pizza\"\n",
    "# and \"New York NY\" if you want to compare your work directly\n",
    "term = \"pizza\"\n",
    "location = \"Jacksonville, FL\"\n",
    "\n",
    "# Set up params for request\n",
    "url = \"https://api.yelp.com/v3/businesses/search\"\n",
    "headers = {\n",
    "    \"Authorization\": \"Bearer {}\".format(api_key)\n",
    "}\n",
    "url_params = {\n",
    "    \"term\": term.replace(\" \", \"+\"),\n",
    "    \"location\": location.replace(\" \", \"+\")\n",
    "}\n",
    "\n",
    "# Make the request using requests.get, passing in\n",
    "# url, headers=headers, and params=url_params\n",
    "response = requests.get(url, headers=headers, params=url_params)\n",
    "\n",
    "# Confirm we got a 200 response\n",
    "response"
   ]
  },
  {
   "cell_type": "code",
   "execution_count": 3,
   "metadata": {},
   "outputs": [
    {
     "data": {
      "text/plain": [
       "dict_keys(['businesses', 'total', 'region'])"
      ]
     },
     "execution_count": 3,
     "metadata": {},
     "output_type": "execute_result"
    }
   ],
   "source": [
    "# Run this cell without changes\n",
    "\n",
    "# Get the response body in JSON format\n",
    "response_json = response.json()\n",
    "# View the keys\n",
    "response_json.keys()"
   ]
  },
  {
   "cell_type": "markdown",
   "metadata": {},
   "source": [
    "### Extracting Data\n",
    "\n",
    "Now, retrieve the value associated with the `'businesses'` key, and inspect its contents."
   ]
  },
  {
   "cell_type": "code",
   "execution_count": 4,
   "metadata": {},
   "outputs": [
    {
     "data": {
      "text/plain": [
       "[{'id': 'Mtmy-z93WTljHUOY4d9Bmg',\n",
       "  'alias': 'carmines-pie-house-jacksonville',\n",
       "  'name': 'Carmines Pie House',\n",
       "  'image_url': 'https://s3-media1.fl.yelpcdn.com/bphoto/epOrPr5wx_LcyIzdci6u6g/o.jpg',\n",
       "  'is_closed': False,\n",
       "  'url': 'https://www.yelp.com/biz/carmines-pie-house-jacksonville?adjust_creative=G81hZOQ223Ia3P0pWaznZg&utm_campaign=yelp_api_v3&utm_medium=api_v3_business_search&utm_source=G81hZOQ223Ia3P0pWaznZg',\n",
       "  'review_count': 860,\n",
       "  'categories': [{'alias': 'pizza', 'title': 'Pizza'},\n",
       "   {'alias': 'italian', 'title': 'Italian'},\n",
       "   {'alias': 'sandwiches', 'title': 'Sandwiches'}],\n",
       "  'rating': 4.5,\n",
       "  'coordinates': {'latitude': 30.31262, 'longitude': -81.69465},\n",
       "  'transactions': ['pickup', 'delivery'],\n",
       "  'price': '$$',\n",
       "  'location': {'address1': '2677 Forbes St',\n",
       "   'address2': '',\n",
       "   'address3': '',\n",
       "   'city': 'Jacksonville',\n",
       "   'zip_code': '32204',\n",
       "   'country': 'US',\n",
       "   'state': 'FL',\n",
       "   'display_address': ['2677 Forbes St', 'Jacksonville, FL 32204']},\n",
       "  'phone': '+19043871400',\n",
       "  'display_phone': '(904) 387-1400',\n",
       "  'distance': 7941.839877434529},\n",
       " {'id': 'cFcLiM8NjttXTGpPLygo5w',\n",
       "  'alias': 'v-pizza-san-marco-jacksonville',\n",
       "  'name': 'V Pizza - San Marco',\n",
       "  'image_url': 'https://s3-media2.fl.yelpcdn.com/bphoto/n14kBn0zAFnzMknIz4X1jQ/o.jpg',\n",
       "  'is_closed': False,\n",
       "  'url': 'https://www.yelp.com/biz/v-pizza-san-marco-jacksonville?adjust_creative=G81hZOQ223Ia3P0pWaznZg&utm_campaign=yelp_api_v3&utm_medium=api_v3_business_search&utm_source=G81hZOQ223Ia3P0pWaznZg',\n",
       "  'review_count': 768,\n",
       "  'categories': [{'alias': 'pizza', 'title': 'Pizza'},\n",
       "   {'alias': 'italian', 'title': 'Italian'},\n",
       "   {'alias': 'chicken_wings', 'title': 'Chicken Wings'}],\n",
       "  'rating': 4.5,\n",
       "  'coordinates': {'latitude': 30.31194, 'longitude': -81.65503},\n",
       "  'transactions': ['delivery'],\n",
       "  'price': '$$',\n",
       "  'location': {'address1': '1406 Hendricks Ave',\n",
       "   'address2': None,\n",
       "   'address3': '',\n",
       "   'city': 'Jacksonville',\n",
       "   'zip_code': '32207',\n",
       "   'country': 'US',\n",
       "   'state': 'FL',\n",
       "   'display_address': ['1406 Hendricks Ave', 'Jacksonville, FL 32207']},\n",
       "  'phone': '+19045271511',\n",
       "  'display_phone': '(904) 527-1511',\n",
       "  'distance': 4535.696209584387}]"
      ]
     },
     "execution_count": 4,
     "metadata": {},
     "output_type": "execute_result"
    }
   ],
   "source": [
    "# Replace None with appropriate code\n",
    "\n",
    "# Retrieve the value from response_json\n",
    "businesses = response_json['businesses']\n",
    "\n",
    "# View the first 2 records\n",
    "businesses[:2]"
   ]
  },
  {
   "cell_type": "markdown",
   "metadata": {},
   "source": [
    "### Preparing Data\n",
    "\n",
    "Write a function `prepare_data` that takes in a list of dictionaries like `businesses` and returns a copy that has been prepared for analysis:\n",
    "\n",
    "1. The `coordinates` key-value pair has been converted into two separate key-value pairs, `latitude` and `longitude`\n",
    "2. All other key-value pairs except for `name`, `review_count`, `rating`, and `price` have been dropped\n",
    "3. All dictionaries missing one of the relevant keys or containing null values have been dropped\n",
    "\n",
    "In other words, the final keys for each dictionary should be `name`, `review_count`, `rating`, `price`, `latitude`, and `longitude`.\n",
    "\n",
    "Complete the function in the cell below:"
   ]
  },
  {
   "cell_type": "code",
   "execution_count": 18,
   "metadata": {},
   "outputs": [
    {
     "name": "stdout",
     "output_type": "stream",
     "text": [
      "$$\n",
      "$$\n",
      "$$\n"
     ]
    },
    {
     "ename": "KeyError",
     "evalue": "'price'",
     "output_type": "error",
     "traceback": [
      "\u001b[1;31m---------------------------------------------------------------------------\u001b[0m",
      "\u001b[1;31mKeyError\u001b[0m                                  Traceback (most recent call last)",
      "\u001b[1;32m<ipython-input-18-190f7cd4aef7>\u001b[0m in \u001b[0;36m<module>\u001b[1;34m\u001b[0m\n\u001b[0;32m      1\u001b[0m \u001b[1;32mfor\u001b[0m \u001b[0mbusiness\u001b[0m \u001b[1;32min\u001b[0m \u001b[0mbusinesses\u001b[0m\u001b[1;33m:\u001b[0m\u001b[1;33m\u001b[0m\u001b[1;33m\u001b[0m\u001b[0m\n\u001b[1;32m----> 2\u001b[1;33m     \u001b[0mprint\u001b[0m\u001b[1;33m(\u001b[0m\u001b[0mbusiness\u001b[0m\u001b[1;33m[\u001b[0m\u001b[1;34m'price'\u001b[0m\u001b[1;33m]\u001b[0m\u001b[1;33m)\u001b[0m\u001b[1;33m\u001b[0m\u001b[1;33m\u001b[0m\u001b[0m\n\u001b[0m",
      "\u001b[1;31mKeyError\u001b[0m: 'price'"
     ]
    }
   ],
   "source": [
    "for business in businesses:\n",
    "    print(business['price'])"
   ]
  },
  {
   "cell_type": "code",
   "execution_count": 20,
   "metadata": {},
   "outputs": [
    {
     "data": {
      "text/plain": [
       "{'id': '0pRv6QitGFyRmFNlV_uPZw',\n",
       " 'alias': 'stoner-s-pizza-joint-jacksonville',\n",
       " 'name': 'Stoner’s Pizza Joint',\n",
       " 'image_url': 'https://s3-media4.fl.yelpcdn.com/bphoto/n7iV4DCySD-eGZTv1RnM8Q/o.jpg',\n",
       " 'is_closed': False,\n",
       " 'url': 'https://www.yelp.com/biz/stoner-s-pizza-joint-jacksonville?adjust_creative=G81hZOQ223Ia3P0pWaznZg&utm_campaign=yelp_api_v3&utm_medium=api_v3_business_search&utm_source=G81hZOQ223Ia3P0pWaznZg',\n",
       " 'review_count': 12,\n",
       " 'categories': [{'alias': 'pizza', 'title': 'Pizza'}],\n",
       " 'rating': 4.5,\n",
       " 'coordinates': {'latitude': 30.19968503496771,\n",
       "  'longitude': -81.61580827214142},\n",
       " 'transactions': ['pickup', 'delivery'],\n",
       " 'location': {'address1': '9766 Old St Augustine Rd',\n",
       "  'address2': 'Ste 8',\n",
       "  'address3': '',\n",
       "  'city': 'Jacksonville',\n",
       "  'zip_code': '32257',\n",
       "  'country': 'US',\n",
       "  'state': 'FL',\n",
       "  'display_address': ['9766 Old St Augustine Rd',\n",
       "   'Ste 8',\n",
       "   'Jacksonville, FL 32257']},\n",
       " 'phone': '+19042929200',\n",
       " 'display_phone': '(904) 292-9200',\n",
       " 'distance': 9751.395401622607}"
      ]
     },
     "execution_count": 20,
     "metadata": {},
     "output_type": "execute_result"
    }
   ],
   "source": [
    "businesses[3]"
   ]
  },
  {
   "cell_type": "code",
   "execution_count": 28,
   "metadata": {},
   "outputs": [
    {
     "data": {
      "text/plain": [
       "[{'name': 'Carmines Pie House',\n",
       "  'review_count': 860,\n",
       "  'rating': 4.5,\n",
       "  'price': '$$',\n",
       "  'latitude': 30.31262,\n",
       "  'longitude': -81.69465},\n",
       " {'name': 'V Pizza - San Marco',\n",
       "  'review_count': 768,\n",
       "  'rating': 4.5,\n",
       "  'price': '$$',\n",
       "  'latitude': 30.31194,\n",
       "  'longitude': -81.65503},\n",
       " {'name': 'Mamas Pizza & Grill',\n",
       "  'review_count': 240,\n",
       "  'rating': 4.0,\n",
       "  'price': '$$',\n",
       "  'latitude': 30.219814567437883,\n",
       "  'longitude': -81.55871},\n",
       " {'name': 'Biggie’s Pizza - 5 Points',\n",
       "  'review_count': 100,\n",
       "  'rating': 4.5,\n",
       "  'price': '$',\n",
       "  'latitude': 30.3143349757416,\n",
       "  'longitude': -81.680857402634},\n",
       " {'name': 'Moon River Pizza',\n",
       "  'review_count': 363,\n",
       "  'rating': 4.5,\n",
       "  'price': '$$',\n",
       "  'latitude': 30.308522,\n",
       "  'longitude': -81.714057}]"
      ]
     },
     "execution_count": 28,
     "metadata": {},
     "output_type": "execute_result"
    }
   ],
   "source": [
    "# Replace None with appropriate code\n",
    "\n",
    "def prepare_data(data_list):\n",
    "    \"\"\"\n",
    "    This function takes in a list of dictionaries and prepares it\n",
    "    for analysis\n",
    "    \"\"\"\n",
    "    \n",
    "    # Make a new list to hold results\n",
    "    results = []\n",
    "    \n",
    "    for business_data in data_list:\n",
    "    \n",
    "        # Make a new dictionary to hold prepared data for this business\n",
    "        prepared_data = {}\n",
    "        \n",
    "        # Extract name, review_count, rating, and price key-value pairs\n",
    "        # from business_data and add to prepared_data\n",
    "        # If a key is not present in business_data, add it to prepared_data\n",
    "        # with an associated value of None\n",
    "        keys_needed = ['name', 'review_count', 'rating', 'price']\n",
    "        \n",
    "        for key in keys_needed:\n",
    "            prepared_data[key] = business_data.get(key, None)\n",
    "                \n",
    "        # Parse and add latitude and longitude columns\n",
    "        prepared_data['latitude'] = business_data['coordinates']['latitude']\n",
    "        prepared_data['longitude'] = business_data['coordinates']['longitude']\n",
    "\n",
    "        # Add to list if all values are present\n",
    "        if all(prepared_data.values()):\n",
    "            results.append(prepared_data)\n",
    "    \n",
    "    return results\n",
    "    \n",
    "# Test out function\n",
    "prepared_businesses = prepare_data(businesses)\n",
    "prepared_businesses[:5]"
   ]
  },
  {
   "cell_type": "markdown",
   "metadata": {},
   "source": [
    "Check that your function created the correct keys:"
   ]
  },
  {
   "cell_type": "code",
   "execution_count": 29,
   "metadata": {},
   "outputs": [],
   "source": [
    "# Run this cell without changes\n",
    "\n",
    "assert sorted(list(prepared_businesses[0].keys())) == ['latitude', 'longitude', 'name', 'price', 'rating', 'review_count']"
   ]
  },
  {
   "cell_type": "markdown",
   "metadata": {},
   "source": [
    "The following code will differ depending on your query, but we expect there to be 20 businesses in the original list, and potentially fewer in the prepared list (if any of them were missing data):"
   ]
  },
  {
   "cell_type": "code",
   "execution_count": 30,
   "metadata": {},
   "outputs": [
    {
     "name": "stdout",
     "output_type": "stream",
     "text": [
      "Original: 20\n",
      "Prepared: 15\n"
     ]
    }
   ],
   "source": [
    "# Run this cell without changes\n",
    "print(\"Original:\", len(businesses))\n",
    "print(\"Prepared:\", len(prepared_businesses))"
   ]
  },
  {
   "cell_type": "markdown",
   "metadata": {},
   "source": [
    "Great! We will reuse this function once we have retrieved the full dataset."
   ]
  },
  {
   "cell_type": "markdown",
   "metadata": {},
   "source": [
    "## 2. Add Pagination\n",
    "\n",
    "Now that you are able to extract information from one page of the response, let's figure out how to request as many pages as possible.\n",
    "\n",
    "### Determining the Total\n",
    "\n",
    "Depending on the number of total results for your query, you will either retrieve all of the results, or just the first 1000 (if there are more than 1000 total).\n",
    "\n",
    "We can find the total number of results using the `\"total\"` key:"
   ]
  },
  {
   "cell_type": "code",
   "execution_count": 31,
   "metadata": {},
   "outputs": [
    {
     "data": {
      "text/plain": [
       "735"
      ]
     },
     "execution_count": 31,
     "metadata": {},
     "output_type": "execute_result"
    }
   ],
   "source": [
    "# Run this cell without changes\n",
    "response_json[\"total\"]"
   ]
  },
  {
   "cell_type": "markdown",
   "metadata": {},
   "source": [
    "(This is specific to the implementation of the Yelp API. Some APIs will just tell you that there are more pages, or will tell you the number of pages total, rather than the total number of results. If you're not sure, always check the documentation.)\n",
    "\n",
    "In the cell below, assign the variable `total` to either the value shown above (if it is less than 1000), or 1000."
   ]
  },
  {
   "cell_type": "code",
   "execution_count": 32,
   "metadata": {},
   "outputs": [],
   "source": [
    "# Replace None with appropriate code\n",
    "total = 735"
   ]
  },
  {
   "cell_type": "markdown",
   "metadata": {},
   "source": [
    "### Calculating the Offsets\n",
    "\n",
    "The documentation states in the parameters section:\n",
    "\n",
    "> **Name**: `limit`, **Type:** int, **Description:** Optional. Number of business results to return. By default, it will return 20. Maximum is 50.\n",
    "\n",
    "> **Name**: `offset`, **Type:** int, **Description:** Optional. Offset the list of returned business results by this amount.\n",
    "\n",
    "So, to get the most results with the fewest API calls we want to set a limit of 50 every time. If, say, we wanted to get 210 total results, that would mean:\n",
    "\n",
    "1. Offset of `0` (first 50 records)\n",
    "2. Offset of `50` (second 50 records)\n",
    "3. Offset of `100` (third 50 records)\n",
    "4. Offset of `150` (fourth 50 records)\n",
    "5. Offset of `200` (final 10 records)\n",
    "\n",
    "In the cell below, create a function `get_offsets` that takes in a total and returns a list of offsets for that total. You can assume that there is a limit of 50 every time.\n",
    "\n",
    "*Hint: you can use `range` ([documentation here](https://docs.python.org/3.3/library/stdtypes.html?highlight=range#range)) to do this in one line of code. Just make the returned result is a list.*"
   ]
  },
  {
   "cell_type": "code",
   "execution_count": 35,
   "metadata": {},
   "outputs": [],
   "source": [
    "# Replace None with appropriate code\n",
    "def get_offsets(total):\n",
    "    \"\"\"\n",
    "    Get a list of offsets needed to get all pages\n",
    "    of data up until the total\n",
    "    \"\"\"\n",
    "    return list(range(0,total, 50))"
   ]
  },
  {
   "cell_type": "markdown",
   "metadata": {},
   "source": [
    "Check that your function works below:"
   ]
  },
  {
   "cell_type": "code",
   "execution_count": 36,
   "metadata": {},
   "outputs": [],
   "source": [
    "# Run this cell without changes\n",
    "\n",
    "assert get_offsets(200) == [0, 50, 100, 150]\n",
    "assert get_offsets(210) == [0, 50, 100, 150, 200]"
   ]
  },
  {
   "cell_type": "markdown",
   "metadata": {},
   "source": [
    "### Putting It All Together\n",
    "\n",
    "Recall that the following variable has already been declared for you:"
   ]
  },
  {
   "cell_type": "code",
   "execution_count": 37,
   "metadata": {},
   "outputs": [
    {
     "data": {
      "text/plain": [
       "{'term': 'pizza', 'location': 'Jacksonville,+FL'}"
      ]
     },
     "execution_count": 37,
     "metadata": {},
     "output_type": "execute_result"
    }
   ],
   "source": [
    "# Run this cell without changes\n",
    "url_params"
   ]
  },
  {
   "cell_type": "markdown",
   "metadata": {},
   "source": [
    "We'll go ahead and also specify that the limit should be 50 every time:"
   ]
  },
  {
   "cell_type": "code",
   "execution_count": 38,
   "metadata": {},
   "outputs": [],
   "source": [
    "# Run this cell without changes\n",
    "url_params[\"limit\"] = 50"
   ]
  },
  {
   "cell_type": "markdown",
   "metadata": {},
   "source": [
    "In order to modify the offset, you'll need to add it to `url_params` with the key `\"offset\"` and whatever value is needed.\n",
    "\n",
    "In the cell below, write code that:\n",
    "\n",
    "* Creates an empty list for the full prepared dataset\n",
    "* Loops over all of the offsets from `get_offsets` and makes an API call each time with the specified offset\n",
    "* Calls `prepare_data` to get a cleaned version of the result of each API call\n",
    "* Extends the full prepared dataset list with each query's prepared dataset"
   ]
  },
  {
   "cell_type": "code",
   "execution_count": 39,
   "metadata": {},
   "outputs": [
    {
     "data": {
      "text/plain": [
       "631"
      ]
     },
     "execution_count": 39,
     "metadata": {},
     "output_type": "execute_result"
    }
   ],
   "source": [
    "# Replace None with appropriate code\n",
    "\n",
    "# Create an empty list for the full prepared dataset\n",
    "full_dataset = []\n",
    "\n",
    "for offset in get_offsets(total):\n",
    "    # Add or update the \"offset\" key-value pair in url_params\n",
    "    url_params['offset'] = offset\n",
    "    \n",
    "    # Make the query and get the response\n",
    "    response = requests.get(url, headers=headers, params=url_params)\n",
    "    \n",
    "    # Get the response body in JSON format\n",
    "    response_json = response.json()\n",
    "    \n",
    "    # Get the list of businesses from the response_json\n",
    "    businesses = response_json['businesses']\n",
    "    \n",
    "    # Call the prepare_data function to get a list of processed data\n",
    "    prepared_businesses = prepare_data(businesses)\n",
    "    \n",
    "    # Extend full_dataset with this list (don't append, or you'll get\n",
    "    # a list of lists instead of a flat list)\n",
    "    full_dataset.extend(prepared_businesses)\n",
    "\n",
    "# Check the length of the full dataset. It will be up to `total`,\n",
    "# potentially less if there were missing values\n",
    "len(full_dataset)"
   ]
  },
  {
   "cell_type": "markdown",
   "metadata": {},
   "source": [
    "This code may take up to a few minutes to run.\n",
    "\n",
    "If you get an error trying to get the response body in JSON format, try adding `time.sleep(1)` right after the `requests.get` line, so your code will sleep for 1 second between each API call."
   ]
  },
  {
   "cell_type": "markdown",
   "metadata": {},
   "source": [
    "## 3. Perform Exploratory Analysis\n",
    "\n",
    "Take the businesses from the previous question and do an initial exploratory analysis. We have provided some plots for you to interpret:"
   ]
  },
  {
   "cell_type": "code",
   "execution_count": 40,
   "metadata": {},
   "outputs": [
    {
     "data": {
      "image/png": "[encoded data removed]",
      "text/plain": [
       "<Figure size 1152x360 with 3 Axes>"
      ]
     },
     "metadata": {
      "needs_background": "light"
     },
     "output_type": "display_data"
    }
   ],
   "source": [
    "# Run this cell without changes\n",
    "from collections import Counter\n",
    "import matplotlib.pyplot as plt\n",
    "%matplotlib inline\n",
    "\n",
    "fig, (ax1, ax2, ax3) = plt.subplots(ncols=3, figsize=(16, 5))\n",
    "\n",
    "# Plot distribution of number of reviews\n",
    "all_review_counts = [x[\"review_count\"] for x in full_dataset]\n",
    "ax1.hist(all_review_counts)\n",
    "ax1.set_title(\"Review Count Distribution\")\n",
    "ax1.set_xlabel(\"Number of Reviews\")\n",
    "ax1.set_ylabel(\"Number of Businesses\")\n",
    "\n",
    "# Plot rating distribution\n",
    "all_ratings = [x[\"rating\"] for x in full_dataset]\n",
    "rating_counter = Counter(all_ratings)\n",
    "rating_keys = sorted(rating_counter.keys())\n",
    "ax2.bar(rating_keys, [rating_counter[key] for key in rating_keys])\n",
    "ax2.set_title(\"Rating Distribution\")\n",
    "ax2.set_xlabel(\"Rating\")\n",
    "ax2.set_ylabel(\"Number of Businesses\")\n",
    "\n",
    "# Plot price distribution\n",
    "all_prices = [x[\"price\"].replace(\"$\", r\"\\$\") for x in full_dataset]\n",
    "price_counter = Counter(all_prices)\n",
    "price_keys = sorted(price_counter.keys())\n",
    "ax3.bar(price_keys, [price_counter[key] for key in price_keys])\n",
    "ax3.set_title(\"Price Distribution\")\n",
    "ax3.set_xlabel(\"Price Category\")\n",
    "ax3.set_ylabel(\"Number of Businesses\");"
   ]
  },
  {
   "cell_type": "markdown",
   "metadata": {},
   "source": [
    "Describe the distributions displayed above and interpret them in the context of your query. (Your answer may differ from the solution branch depending on your query.)"
   ]
  },
  {
   "cell_type": "code",
   "execution_count": null,
   "metadata": {},
   "outputs": [],
   "source": [
    "# Replace None with appropriate text\n",
    "\"\"\"\n",
    "The 'Review Count Distribution' shows that the vast majority restaurants from the sample have between 0-100 reviews.\n",
    "However, the distribution is heavily skewed, and a few restaurants have as many as 1,000 reviews.\n",
    "\n",
    "The 'Rating Distribution' is fairly normal, though slightly skewed. The average rating appears to be about 4,\n",
    "and the range of ratings covers the full scale: 1-5.\n",
    "\n",
    "The \"Price Distribution\" graph shows that almost all of the restaurants are $ or $$.\n",
    "This makes sense given that we searched for pizza restaurants,\n",
    "though it is a bit surprising that there are slightly more $$ restaurants than $ restaurants.\n",
    "\"\"\""
   ]
  },
  {
   "cell_type": "markdown",
   "metadata": {},
   "source": [
    "In the cell below, we also plot the rating distributions by price. In this setup, a price of one dollar sign is \"lower price\" and everything else is \"higher price\"."
   ]
  },
  {
   "cell_type": "code",
   "execution_count": 41,
   "metadata": {},
   "outputs": [
    {
     "data": {
      "image/png": "[encoded data removed]",
      "text/plain": [
       "<Figure size 432x288 with 1 Axes>"
      ]
     },
     "metadata": {
      "needs_background": "light"
     },
     "output_type": "display_data"
    }
   ],
   "source": [
    "# Run this cell without changes\n",
    "\n",
    "higher_price = []\n",
    "lower_price = []\n",
    "for row in full_dataset:\n",
    "    if row[\"price\"] == \"$\":\n",
    "        lower_price.append(row[\"rating\"])\n",
    "    else:\n",
    "        higher_price.append(row[\"rating\"])\n",
    "        \n",
    "fig, ax = plt.subplots()\n",
    "\n",
    "ax.hist([higher_price, lower_price], label=[\"higher price\", \"lower price\"], density=True)\n",
    "\n",
    "ax.legend();"
   ]
  },
  {
   "cell_type": "markdown",
   "metadata": {},
   "source": [
    "Is a higher price associated with a higher rating? (No need for any additional math/statistics, just interpret what you see in the plot.)"
   ]
  },
  {
   "cell_type": "code",
   "execution_count": null,
   "metadata": {},
   "outputs": [],
   "source": [
    "# Replace None with appropriate text\n",
    "\"\"\"\n",
    "Interestingly, the lower price restaurants have a bimodal distribution with the two peaks at 2.0 and 4.0.\n",
    "It is likely that the average rating for lower price restaurants is around 3.0.\n",
    "\n",
    "Higher price restaurants, however, have a much more normal distribution and an average of around 4.0,\n",
    "indicating that the higher price group is more likely to have a higher rating\n",
    "\"\"\""
   ]
  },
  {
   "cell_type": "markdown",
   "metadata": {},
   "source": [
    "Finally, let's look at ratings vs. review counts:"
   ]
  },
  {
   "cell_type": "code",
   "execution_count": 42,
   "metadata": {},
   "outputs": [
    {
     "data": {
      "image/png": "[encoded data removed]",
      "text/plain": [
       "<Figure size 1152x360 with 1 Axes>"
      ]
     },
     "metadata": {
      "needs_background": "light"
     },
     "output_type": "display_data"
    }
   ],
   "source": [
    "# Run this cell without changes\n",
    "fig, ax = plt.subplots(figsize=(16,5))\n",
    "\n",
    "ax.scatter(all_review_counts, all_ratings, alpha=0.2)\n",
    "ax.set_xlabel(\"Number of Reviews\")\n",
    "ax.set_ylabel(\"Rating\")\n",
    "# \"zoom in\" to a subset of review counts\n",
    "ax.set_xlim(left=0, right=1000);"
   ]
  },
  {
   "cell_type": "markdown",
   "metadata": {},
   "source": [
    "Is a higher number of reviews associated with a higher rating?"
   ]
  },
  {
   "cell_type": "code",
   "execution_count": null,
   "metadata": {},
   "outputs": [],
   "source": [
    "# Replace None with appropriate text\n",
    "\"\"\"\n",
    "It does seem that higher number of reviews is associated with a higher rating, but only if we exclude the 5.0 rating restaurants.\n",
    "The association also appears weak, and would require more analysis to make a firm determination.\n",
    "\"\"\""
   ]
  },
  {
   "cell_type": "markdown",
   "metadata": {},
   "source": [
    "## 4. Create a Folium Map\n",
    "\n",
    "Make a map using Folium of the businesses you retrieved. Be sure to also add popups to the markers giving some basic information such as name, rating and price.\n",
    "\n",
    "You can center the map around the latitude and longitude of the first item in `full_dataset`."
   ]
  },
  {
   "cell_type": "code",
   "execution_count": 45,
   "metadata": {},
   "outputs": [
    {
     "data": {
      "text/html": [
       "<div style=\"width:100%;\"><div style=\"position:relative;width:100%;height:0;padding-bottom:60%;\"><span style=\"color:#565656\">Make this Notebook Trusted to load map: File -> Trust Notebook</span><iframe src=\"about:blank\" style=\"position:absolute;width:100%;height:100%;left:0;top:0;border:none !important;\" data-html=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 onload=\"this.contentDocument.open();this.contentDocument.write(atob(this.getAttribute('data-html')));this.contentDocument.close();\" allowfullscreen webkitallowfullscreen mozallowfullscreen></iframe></div></div>"
      ],
      "text/plain": [
       "<folium.folium.Map at 0x15ebe6788b0>"
      ]
     },
     "execution_count": 45,
     "metadata": {},
     "output_type": "execute_result"
    }
   ],
   "source": [
    "# Replace None with appropriate code\n",
    "\n",
    "# Import the library\n",
    "import folium\n",
    "\n",
    "# Set up center latitude and longitude\n",
    "center_lat = full_dataset[0]['latitude']\n",
    "center_long = full_dataset[0]['longitude']\n",
    "\n",
    "# Initialize map with center lat and long\n",
    "yelp_map = folium.Map([center_lat, center_long], zoom_start=13)\n",
    "\n",
    "# Adjust this limit to see more or fewer businesses\n",
    "limit=100\n",
    "\n",
    "for business in full_dataset[:limit]:\n",
    "    # Extract information about business\n",
    "    lat = business['latitude']\n",
    "    long = business['longitude']\n",
    "    name = business['name']\n",
    "    rating = business['rating']\n",
    "    price = business['price']\n",
    "    details = \"{}\\nPrice: {} Rating:{}\".format(name,price,rating)\n",
    "    \n",
    "    # Create popup with relevant details\n",
    "    popup = folium.Popup(details, parse_html=True)\n",
    "    \n",
    "    # Create marker with relevant lat/long and popup\n",
    "    marker = folium.Marker(location=[lat, long], popup=popup)\n",
    "    \n",
    "    marker.add_to(yelp_map)\n",
    "    \n",
    "yelp_map"
   ]
  },
  {
   "cell_type": "markdown",
   "metadata": {},
   "source": [
    "## Summary\n",
    "\n",
    "Nice work! In this lab, you've made multiple API calls to Yelp in order to paginate through a results set, performing some basic exploratory analysis and then creating a nice interactive map to display the results using Folium! Well done!"
   ]
  }
 ],
 "metadata": {
  "kernelspec": {
   "display_name": "Python 3",
   "language": "python",
   "name": "python3"
  },
  "language_info": {
   "codemirror_mode": {
    "name": "ipython",
    "version": 3
   },
   "file_extension": ".py",
   "mimetype": "text/x-python",
   "name": "python",
   "nbconvert_exporter": "python",
   "pygments_lexer": "ipython3",
   "version": "3.8.5"
  },
  "toc": {
   "base_numbering": 1,
   "nav_menu": {},
   "number_sections": true,
   "sideBar": true,
   "skip_h1_title": false,
   "title_cell": "Table of Contents",
   "title_sidebar": "Contents",
   "toc_cell": false,
   "toc_position": {},
   "toc_section_display": true,
   "toc_window_display": false
  }
 },
 "nbformat": 4,
 "nbformat_minor": 2
}
